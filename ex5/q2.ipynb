{
 "cells": [
  {
   "cell_type": "code",
   "execution_count": 1,
   "metadata": {},
   "outputs": [],
   "source": [
    "import gspread\n",
    "from prtpy.prtpy.partitioning.kk import kk\n",
    "from prtpy.prtpy.bins import BinsKeepingContents"
   ]
  },
  {
   "cell_type": "code",
   "execution_count": 2,
   "metadata": {},
   "outputs": [],
   "source": [
    "def target_func(series, k):\n",
    "    '''\n",
    "\n",
    "    :param series: the items we get from the datasheet\n",
    "    :param k: numbet of bins we get from datasheet\n",
    "    :return: the kk algorithm to return a optimal patitioning\n",
    "    '''\n",
    "    return kk(BinsKeepingContents(k), items=series).bins"
   ]
  },
  {
   "cell_type": "code",
   "execution_count": 4,
   "metadata": {},
   "outputs": [],
   "source": [
    " # connect to google account\n",
    "account = gspread.service_account(\"credentials.json\")\n"
   ]
  },
  {
   "cell_type": "code",
   "execution_count": 5,
   "metadata": {},
   "outputs": [],
   "source": [
    "# read spreadsheet\n",
    "spreadsheet = account.open('Q2')"
   ]
  },
  {
   "cell_type": "code",
   "execution_count": 6,
   "metadata": {},
   "outputs": [],
   "source": [
    "# read Input sheet\n",
    "input_sheet = spreadsheet.worksheet('Input')"
   ]
  },
  {
   "cell_type": "code",
   "execution_count": 7,
   "metadata": {},
   "outputs": [],
   "source": [
    "# extract input sheet data\n",
    "input_data = input_sheet.get_all_values()"
   ]
  },
  {
   "cell_type": "code",
   "execution_count": 8,
   "metadata": {},
   "outputs": [],
   "source": [
    "series = [int(n) for n in input_data[0]]\n",
    "k = int(input_data[1][0])"
   ]
  },
  {
   "cell_type": "code",
   "execution_count": 9,
   "metadata": {},
   "outputs": [],
   "source": [
    "# apply target function\n",
    "output_data = target_func(series, k)"
   ]
  },
  {
   "cell_type": "code",
   "execution_count": 10,
   "metadata": {},
   "outputs": [],
   "source": [
    "try:\n",
    "    output_sheet = spreadsheet.worksheet('Output')\n",
    "    spreadsheet.del_worksheet(output_sheet)\n",
    "except:\n",
    "    pass\n",
    "output_sheet = spreadsheet.add_worksheet(\"Output\", input_sheet.row_count, input_sheet.col_count)"
   ]
  },
  {
   "cell_type": "code",
   "execution_count": 11,
   "metadata": {},
   "outputs": [
    {
     "data": {
      "text/plain": [
       "{'spreadsheetId': '18YXF3EF46bXuDU69jWk88XKtAQj_vuHGcUeHJbOqzxA',\n",
       " 'updates': {'spreadsheetId': '18YXF3EF46bXuDU69jWk88XKtAQj_vuHGcUeHJbOqzxA',\n",
       "  'updatedRange': 'Output!A1:B3',\n",
       "  'updatedRows': 3,\n",
       "  'updatedColumns': 2,\n",
       "  'updatedCells': 6}}"
      ]
     },
     "execution_count": 11,
     "metadata": {},
     "output_type": "execute_result"
    }
   ],
   "source": [
    "# insert output data to output sheet\n",
    "output_sheet.append_rows(output_data)"
   ]
  },
  {
   "cell_type": "code",
   "execution_count": 20,
   "metadata": {},
   "outputs": [
    {
     "data": {
      "text/plain": [
       "<matplotlib.image.AxesImage at 0x22b86c76380>"
      ]
     },
     "execution_count": 20,
     "metadata": {},
     "output_type": "execute_result"
    },
    {
     "data": {
      "image/png": "[encoded data removed]",
      "text/plain": [
       "<Figure size 432x288 with 1 Axes>"
      ]
     },
     "metadata": {
      "needs_background": "light"
     },
     "output_type": "display_data"
    }
   ],
   "source": [
    " \n",
    "import matplotlib.pyplot as plt\n",
    " \n",
    "# Let's show the input :\n",
    "# First row represents the items , second the num of bins \n",
    "input_img = plt.imread('input.png')\n",
    "plt.imshow(input_img)\n"
   ]
  },
  {
   "cell_type": "code",
   "execution_count": 21,
   "metadata": {},
   "outputs": [
    {
     "data": {
      "text/plain": [
       "<matplotlib.image.AxesImage at 0x22b86ce32e0>"
      ]
     },
     "execution_count": 21,
     "metadata": {},
     "output_type": "execute_result"
    },
    {
     "data": {
      "image/png": "[encoded data removed]",
      "text/plain": [
       "<Figure size 432x288 with 1 Axes>"
      ]
     },
     "metadata": {
      "needs_background": "light"
     },
     "output_type": "display_data"
    }
   ],
   "source": [
    "# Let's show the output \n",
    "# each row repesent a bin which is the optimal partition ([7,6],[8,5][9,4], d=0)\n",
    "output_img = plt.imread('output.png')\n",
    "plt.imshow(output_img)"
   ]
  },
  {
   "cell_type": "code",
   "execution_count": null,
   "metadata": {},
   "outputs": [],
   "source": []
  }
 ],
 "metadata": {
  "interpreter": {
   "hash": "2ab4afbb8d42d85751d1eef280f5b00ceca09b389f8d5291dc0c806f97c3f7b7"
  },
  "kernelspec": {
   "display_name": "Python 3.10.4 64-bit (windows store)",
   "language": "python",
   "name": "python3"
  },
  "language_info": {
   "codemirror_mode": {
    "name": "ipython",
    "version": 3
   },
   "file_extension": ".py",
   "mimetype": "text/x-python",
   "name": "python",
   "nbconvert_exporter": "python",
   "pygments_lexer": "ipython3",
   "version": "3.10.4"
  },
  "orig_nbformat": 4
 },
 "nbformat": 4,
 "nbformat_minor": 2
}
